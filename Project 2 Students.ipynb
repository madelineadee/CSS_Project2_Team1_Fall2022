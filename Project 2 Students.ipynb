{
 "cells": [
  {
   "cell_type": "markdown",
   "id": "c2bf4be1",
   "metadata": {},
   "source": [
    "# Computational Social Science Project #2 \n",
    "\n",
    "*Group number:* Team 1\n",
    "\n",
    "*Group members:* Alex Huang, Madeline Adee, Xueqin Lin, Wan Nurul Naszeerah\n",
    "\n",
    "*Semester:* Fall 2022\n"
   ]
  },
  {
   "cell_type": "markdown",
   "id": "0e8fb6f6",
   "metadata": {},
   "source": [
    "Below we fill in some of the code you might use to answer some of the questions. Here are some additional resources for when you get stuck:\n",
    "* Code and documentation provided in the course notebooks  \n",
    "* [Markdown cheatsheet](https://github.com/adam-p/markdown-here/wiki/Markdown-Cheatsheet) to help with formatting the Jupyter notebook\n",
    "* Try Googling any errors you get and consult Stack Overflow, etc. Someone has probably had your question before!\n",
    "* Send KQ a pull request on GitHub flagging the syntax that's tripping you up "
   ]
  },
  {
   "cell_type": "markdown",
   "id": "e8f66f6a",
   "metadata": {},
   "source": [
    "## 1. Introduction/Setup"
   ]
  },
  {
   "cell_type": "markdown",
   "id": "f41a3947",
   "metadata": {},
   "source": [
    "#### a) Import relevant libraries\n",
    "Add the other libraries you need for your code below and/or as you go. "
   ]
  },
  {
   "cell_type": "code",
   "execution_count": 1,
   "id": "dcf2704e",
   "metadata": {},
   "outputs": [],
   "source": [
    "# import libraries you might need here \n",
    "import pandas as pd\n",
    "import numpy as np\n",
    "import matplotlib.pyplot as plt\n",
    "%matplotlib inline\n",
    "import seaborn as sns\n",
    "\n",
    "# use random seed for consistent results \n",
    "np.random.seed(273)"
   ]
  },
  {
   "cell_type": "markdown",
   "id": "a19dae8c",
   "metadata": {},
   "source": [
    "#### b) Read in and inspect data frame \n",
    "Read in the data frame and look at some of its attributes. "
   ]
  },
  {
   "cell_type": "code",
   "execution_count": 2,
   "id": "b8073f03",
   "metadata": {},
   "outputs": [],
   "source": [
    "diabetes = pd.read_csv('Diabetes with Population Info by County 2017.csv', \n",
    "                       #CountyFips needs to be a string so leading 0 isn't dropped (this is only if you want to make choropleth map): \n",
    "                       dtype={\"CountyFIPS\": str}) "
   ]
  },
  {
   "cell_type": "code",
   "execution_count": 3,
   "id": "52858c48",
   "metadata": {},
   "outputs": [
    {
     "name": "stdout",
     "output_type": "stream",
     "text": [
      "shape:  (3220, 95)\n"
     ]
    }
   ],
   "source": [
    "# look at the dimensions of the diabetes data frame\n",
    "print('shape: ', diabetes.shape) "
   ]
  },
  {
   "cell_type": "code",
   "execution_count": 4,
   "id": "879433e0-d0cb-4c30-914f-e869720a3de3",
   "metadata": {},
   "outputs": [
    {
     "data": {
      "text/plain": [
       "No Data    78\n",
       "3437        4\n",
       "6054        3\n",
       "2334        3\n",
       "2413        3\n",
       "           ..\n",
       "4628        1\n",
       "2522        1\n",
       "2819        1\n",
       "7054        1\n",
       "2015        1\n",
       "Name: Obesity_Number, Length: 2947, dtype: int64"
      ]
     },
     "execution_count": 4,
     "metadata": {},
     "output_type": "execute_result"
    }
   ],
   "source": [
    "diabetes.head()\n",
    "diabetes.Obesity_Number.value_counts()"
   ]
  },
  {
   "cell_type": "code",
   "execution_count": 5,
   "id": "39985523",
   "metadata": {},
   "outputs": [
    {
     "name": "stdout",
     "output_type": "stream",
     "text": [
      "data types: County                                                                                                                                                   object\n",
      "State                                                                                                                                                    object\n",
      "CountyFIPS                                                                                                                                               object\n",
      "Diabetes_Number                                                                                                                                          object\n",
      "Obesity_Number                                                                                                                                           object\n",
      "Physical_Inactivity_Number                                                                                                                               object\n",
      "sex and age_total population_65 years and over_sex ratio (males per 100 females)                                                                         object\n",
      "race_total population                                                                                                                                     int64\n",
      "race_total population_one race                                                                                                                            int64\n",
      "race_total population_two or more races                                                                                                                   int64\n",
      "race_total population_one race_1                                                                                                                          int64\n",
      "race_total population_one race_white                                                                                                                      int64\n",
      "race_total population_one race_black or african american                                                                                                  int64\n",
      "race_total population_one race_american indian and alaska native                                                                                          int64\n",
      "race_total population_one race_american indian and alaska native_cherokee tribal grouping                                                                 int64\n",
      "race_total population_one race_american indian and alaska native_chippewa tribal grouping                                                                 int64\n",
      "race_total population_one race_american indian and alaska native_navajo tribal grouping                                                                   int64\n",
      "race_total population_one race_american indian and alaska native_sioux tribal grouping                                                                    int64\n",
      "race_total population_one race_asian                                                                                                                      int64\n",
      "race_total population_one race_asian_asian indian                                                                                                         int64\n",
      "race_total population_one race_asian_chinese                                                                                                              int64\n",
      "race_total population_one race_asian_filipino                                                                                                             int64\n",
      "race_total population_one race_asian_japanese                                                                                                             int64\n",
      "race_total population_one race_asian_korean                                                                                                               int64\n",
      "race_total population_one race_asian_vietnamese                                                                                                           int64\n",
      "race_total population_one race_asian_other asian                                                                                                          int64\n",
      "race_total population_one race_native hawaiian and other pacific islander                                                                                 int64\n",
      "race_total population_one race_native hawaiian and other pacific islander_native hawaiian                                                                 int64\n",
      "race_total population_one race_native hawaiian and other pacific islander_guamanian or chamorro                                                           int64\n",
      "race_total population_one race_native hawaiian and other pacific islander_samoan                                                                          int64\n",
      "race_total population_one race_native hawaiian and other pacific islander_other pacific islander                                                          int64\n",
      "race_total population_one race_some other race                                                                                                            int64\n",
      "race_total population_two or more races_1                                                                                                                 int64\n",
      "race_total population_two or more races_white and black or african american                                                                               int64\n",
      "race_total population_two or more races_white and american indian and alaska native                                                                       int64\n",
      "race_total population_two or more races_white and asian                                                                                                   int64\n",
      "race_total population_two or more races_black or african american and american indian and alaska native                                                   int64\n",
      "race alone or in combination with one or more other races_total population                                                                                int64\n",
      "race alone or in combination with one or more other races_total population_white                                                                          int64\n",
      "race alone or in combination with one or more other races_total population_black or african american                                                      int64\n",
      "race alone or in combination with one or more other races_total population_american indian and alaska native                                              int64\n",
      "race alone or in combination with one or more other races_total population_asian                                                                          int64\n",
      "race alone or in combination with one or more other races_total population_native hawaiian and other pacific islander                                     int64\n",
      "race alone or in combination with one or more other races_total population_some other race                                                                int64\n",
      "hispanic or latino and race_total population                                                                                                              int64\n",
      "hispanic or latino and race_total population_hispanic or latino (of any race)                                                                             int64\n",
      "hispanic or latino and race_total population_hispanic or latino (of any race)_mexican                                                                     int64\n",
      "hispanic or latino and race_total population_hispanic or latino (of any race)_puerto rican                                                                int64\n",
      "hispanic or latino and race_total population_hispanic or latino (of any race)_cuban                                                                       int64\n",
      "hispanic or latino and race_total population_hispanic or latino (of any race)_other hispanic or latino                                                    int64\n",
      "hispanic or latino and race_total population_not hispanic or latino                                                                                       int64\n",
      "hispanic or latino and race_total population_not hispanic or latino_white alone                                                                           int64\n",
      "hispanic or latino and race_total population_not hispanic or latino_black or african american alone                                                       int64\n",
      "hispanic or latino and race_total population_not hispanic or latino_american indian and alaska native alone                                               int64\n",
      "hispanic or latino and race_total population_not hispanic or latino_asian alone                                                                           int64\n",
      "hispanic or latino and race_total population_not hispanic or latino_native hawaiian and other pacific islander alone                                      int64\n",
      "hispanic or latino and race_total population_not hispanic or latino_some other race alone                                                                 int64\n",
      "hispanic or latino and race_total population_not hispanic or latino_two or more races                                                                     int64\n",
      "hispanic or latino and race_total population_not hispanic or latino_two or more races_two races including some other race                                 int64\n",
      "hispanic or latino and race_total population_not hispanic or latino_two or more races_two races excluding some other race -  and three or more races      int64\n",
      "total housing units                                                                                                                                       int64\n",
      "citizen -  voting age population_citizen -  18 and over population                                                                                        int64\n",
      "citizen -  voting age population_citizen -  18 and over population_male                                                                                   int64\n",
      "citizen -  voting age population_citizen -  18 and over population_female                                                                                 int64\n",
      "sex and age_total population                                                                                                                              int64\n",
      "sex and age_total population_male                                                                                                                         int64\n",
      "sex and age_total population_female                                                                                                                       int64\n",
      "sex and age_total population_sex ratio (males per 100 females)                                                                                          float64\n",
      "sex and age_total population_under 5 years                                                                                                                int64\n",
      "sex and age_total population_5 to 9 years                                                                                                                 int64\n",
      "sex and age_total population_10 to 14 years                                                                                                               int64\n",
      "sex and age_total population_15 to 19 years                                                                                                               int64\n",
      "sex and age_total population_20 to 24 years                                                                                                               int64\n",
      "sex and age_total population_25 to 34 years                                                                                                               int64\n",
      "sex and age_total population_35 to 44 years                                                                                                               int64\n",
      "sex and age_total population_45 to 54 years                                                                                                               int64\n",
      "sex and age_total population_55 to 59 years                                                                                                               int64\n",
      "sex and age_total population_60 to 64 years                                                                                                               int64\n",
      "sex and age_total population_65 to 74 years                                                                                                               int64\n",
      "sex and age_total population_75 to 84 years                                                                                                               int64\n",
      "sex and age_total population_85 years and over                                                                                                            int64\n",
      "sex and age_total population_median age (years)                                                                                                         float64\n",
      "sex and age_total population_under 18 years                                                                                                               int64\n",
      "sex and age_total population_16 years and over                                                                                                            int64\n",
      "sex and age_total population_18 years and over                                                                                                            int64\n",
      "sex and age_total population_21 years and over                                                                                                            int64\n",
      "sex and age_total population_62 years and over                                                                                                            int64\n",
      "sex and age_total population_65 years and over                                                                                                            int64\n",
      "sex and age_total population_18 years and over_1                                                                                                          int64\n",
      "sex and age_total population_18 years and over_male                                                                                                       int64\n",
      "sex and age_total population_18 years and over_female                                                                                                     int64\n",
      "sex and age_total population_18 years and over_sex ratio (males per 100 females)                                                                        float64\n",
      "sex and age_total population_65 years and over_1                                                                                                          int64\n",
      "sex and age_total population_65 years and over_male                                                                                                       int64\n",
      "sex and age_total population_65 years and over_female                                                                                                     int64\n",
      "dtype: object\n"
     ]
    }
   ],
   "source": [
    "pd.set_option('display.max_rows', 100) # tells pandas how many rows to display when printing so results don't get truncated\n",
    "\n",
    "# look at the data types for each column in diabetes df \n",
    "print('data types:', diabetes.dtypes)"
   ]
  },
  {
   "cell_type": "markdown",
   "id": "c8dcc077",
   "metadata": {},
   "source": [
    "Immediately, we see that some of the features that should be numeric (e.g., Diabetes_Number, Obesity_Number,  and Physical_Inactivity_Number) are not. We can check to see what the non-numeric values are in a column where we are expecting numeric information with a combination of `str.isnumeric()` and `unique()`."
   ]
  },
  {
   "cell_type": "code",
   "execution_count": 6,
   "id": "785eeec3",
   "metadata": {
    "tags": []
   },
   "outputs": [
    {
     "name": "stdout",
     "output_type": "stream",
     "text": [
      "['Suppressed']\n"
     ]
    }
   ],
   "source": [
    "# Return rows where the column \"Diabetes_Number\" is non-numeric and get the unique values of these rows\n",
    "# the \"~\" below in front of diabetes negates the str.isnumeric() so it only takes non-numeric values\n",
    "print(diabetes.loc[~diabetes['Diabetes_Number'].str.isnumeric(),'Diabetes_Number'].unique()) "
   ]
  },
  {
   "cell_type": "code",
   "execution_count": 7,
   "id": "a607492b",
   "metadata": {},
   "outputs": [
    {
     "name": "stdout",
     "output_type": "stream",
     "text": [
      "['No Data']\n"
     ]
    }
   ],
   "source": [
    "# Now do the same as above, but for \"Obesity_Number\" :\n",
    "print(diabetes.loc[~diabetes['Obesity_Number'].str.isnumeric(),'Obesity_Number'].unique()) "
   ]
  },
  {
   "cell_type": "code",
   "execution_count": 8,
   "id": "f36f0db7-b3fe-4801-b7ee-8ae884124c0c",
   "metadata": {},
   "outputs": [
    {
     "name": "stdout",
     "output_type": "stream",
     "text": [
      "['No Data']\n"
     ]
    }
   ],
   "source": [
    "print(diabetes.loc[~diabetes['Physical_Inactivity_Number'].str.isnumeric(),'Physical_Inactivity_Number'].unique()) "
   ]
  },
  {
   "cell_type": "markdown",
   "id": "d829afe3",
   "metadata": {},
   "source": [
    "The values contained in the two columns above making them objects (rather than integers) appear to be strings like \"No Data\" and \"Suppressed.\" Let's drop those rows in the next section, and also recode Physical_Inactivity_Number to be an integer. "
   ]
  },
  {
   "cell_type": "markdown",
   "id": "581d5c0e",
   "metadata": {},
   "source": [
    "#### c. Recode variables"
   ]
  },
  {
   "cell_type": "markdown",
   "id": "3b2c96e7",
   "metadata": {},
   "source": [
    "Convert 'Diabetes_Number', 'Obesity_Number', and 'Physical_Inactivity_Number' to integers below so we can use them in our analysis. Also fill in the object type we want to recode 'sex and age_total population_65 years and over_sex ratio (males per 100 females)' to. "
   ]
  },
  {
   "cell_type": "code",
   "execution_count": 12,
   "id": "9bfcfe1e",
   "metadata": {},
   "outputs": [],
   "source": [
    "# Diabetes\n",
    "# keep only useful info about our target feature, i.e., where diabetes_number not = 'Suppressed'\n",
    "diabetes = diabetes[diabetes['Diabetes_Number']!=\"Suppressed\"]  # note that the inside reference to the diabetes df identifies the column, and the outer calls specific rows according to a condition \n",
    "\n",
    "# use the astype method on Diabetes_Number to convert it to an integer...if you are not sure, what does the astype() documentation tell you are possible arguments? \n",
    "diabetes['Diabetes_Number'] = diabetes['Diabetes_Number'].astype('int64') \n",
    "\n",
    "# Obesity\n",
    "diabetes = diabetes[diabetes['Obesity_Number']!=\"No Data\"]\n",
    "diabetes['Obesity_Number'] = diabetes['Obesity_Number'].astype('int64') \n",
    "\n",
    "\n",
    "# Physical Inactivity\n",
    "diabetes = diabetes[diabetes['Physical_Inactivity_Number']!=\"No Data\"]\n",
    "diabetes['Physical_Inactivity_Number'] = diabetes['Physical_Inactivity_Number'].astype('int64') \n",
    "\n",
    "# 65+ sex ratio had one \"-\" in it so let's drop that row first\n",
    "diabetes = diabetes[diabetes['sex and age_total population_65 years and over_sex ratio (males per 100 females)']!= \"-\"]\n",
    "# change to numeric (specifically, integer or float?) from string (because originally included the \"-\" )\n",
    "diabetes['sex and age_total population_65 years and over_sex ratio (males per 100 females)'] = diabetes['sex and age_total population_65 years and over_sex ratio (males per 100 females)'].astype(float)\n"
   ]
  },
  {
   "cell_type": "markdown",
   "id": "c6a0f933",
   "metadata": {},
   "source": [
    "We should probably scale our count variables to be proportional to county population. We create the list 'rc_cols' to select all the features we want to rescale, and then use the `.div()` method to avoid typing out every single column we want to recode. "
   ]
  },
  {
   "cell_type": "code",
   "execution_count": 13,
   "id": "51e3b414",
   "metadata": {},
   "outputs": [
    {
     "ename": "KeyError",
     "evalue": "'rc_cols'",
     "output_type": "error",
     "traceback": [
      "\u001b[0;31m---------------------------------------------------------------------------\u001b[0m",
      "\u001b[0;31mKeyError\u001b[0m                                  Traceback (most recent call last)",
      "File \u001b[0;32m~/opt/anaconda3/lib/python3.9/site-packages/pandas/core/indexes/base.py:3621\u001b[0m, in \u001b[0;36mIndex.get_loc\u001b[0;34m(self, key, method, tolerance)\u001b[0m\n\u001b[1;32m   3620\u001b[0m \u001b[38;5;28;01mtry\u001b[39;00m:\n\u001b[0;32m-> 3621\u001b[0m     \u001b[38;5;28;01mreturn\u001b[39;00m \u001b[38;5;28;43mself\u001b[39;49m\u001b[38;5;241;43m.\u001b[39;49m\u001b[43m_engine\u001b[49m\u001b[38;5;241;43m.\u001b[39;49m\u001b[43mget_loc\u001b[49m\u001b[43m(\u001b[49m\u001b[43mcasted_key\u001b[49m\u001b[43m)\u001b[49m\n\u001b[1;32m   3622\u001b[0m \u001b[38;5;28;01mexcept\u001b[39;00m \u001b[38;5;167;01mKeyError\u001b[39;00m \u001b[38;5;28;01mas\u001b[39;00m err:\n",
      "File \u001b[0;32m~/opt/anaconda3/lib/python3.9/site-packages/pandas/_libs/index.pyx:136\u001b[0m, in \u001b[0;36mpandas._libs.index.IndexEngine.get_loc\u001b[0;34m()\u001b[0m\n",
      "File \u001b[0;32m~/opt/anaconda3/lib/python3.9/site-packages/pandas/_libs/index.pyx:163\u001b[0m, in \u001b[0;36mpandas._libs.index.IndexEngine.get_loc\u001b[0;34m()\u001b[0m\n",
      "File \u001b[0;32mpandas/_libs/hashtable_class_helper.pxi:5198\u001b[0m, in \u001b[0;36mpandas._libs.hashtable.PyObjectHashTable.get_item\u001b[0;34m()\u001b[0m\n",
      "File \u001b[0;32mpandas/_libs/hashtable_class_helper.pxi:5206\u001b[0m, in \u001b[0;36mpandas._libs.hashtable.PyObjectHashTable.get_item\u001b[0;34m()\u001b[0m\n",
      "\u001b[0;31mKeyError\u001b[0m: 'rc_cols'",
      "\nThe above exception was the direct cause of the following exception:\n",
      "\u001b[0;31mKeyError\u001b[0m                                  Traceback (most recent call last)",
      "Input \u001b[0;32mIn [13]\u001b[0m, in \u001b[0;36m<cell line: 6>\u001b[0;34m()\u001b[0m\n\u001b[1;32m      1\u001b[0m \u001b[38;5;66;03m# select count variables to rc to percentages; make sure we leave out ratios and our population variable b/c these don't make sense to scale by population\u001b[39;00m\n\u001b[1;32m      2\u001b[0m rc_cols \u001b[38;5;241m=\u001b[39m [col \u001b[38;5;28;01mfor\u001b[39;00m col \u001b[38;5;129;01min\u001b[39;00m diabetes\u001b[38;5;241m.\u001b[39mcolumns \u001b[38;5;28;01mif\u001b[39;00m col \u001b[38;5;129;01mnot\u001b[39;00m \u001b[38;5;129;01min\u001b[39;00m [\u001b[38;5;124m'\u001b[39m\u001b[38;5;124mCounty\u001b[39m\u001b[38;5;124m'\u001b[39m, \u001b[38;5;124m'\u001b[39m\u001b[38;5;124mState\u001b[39m\u001b[38;5;124m'\u001b[39m, \u001b[38;5;124m'\u001b[39m\u001b[38;5;124mCountyFIPS\u001b[39m\u001b[38;5;124m'\u001b[39m, \n\u001b[1;32m      3\u001b[0m                                                         \u001b[38;5;124m'\u001b[39m\u001b[38;5;124msex and age_total population_65 years and over_sex ratio (males per 100 females)\u001b[39m\u001b[38;5;124m'\u001b[39m, \u001b[38;5;124m'\u001b[39m\u001b[38;5;124msex and age_total population_sex ratio (males per 100 females)\u001b[39m\u001b[38;5;124m'\u001b[39m, \u001b[38;5;124m'\u001b[39m\u001b[38;5;124msex and age_total population_18 years and over_sex ratio (males per 100 females)\u001b[39m\u001b[38;5;124m'\u001b[39m,  \n\u001b[1;32m      4\u001b[0m                                                         \u001b[38;5;124m'\u001b[39m\u001b[38;5;124mrace_total population\u001b[39m\u001b[38;5;124m'\u001b[39m]]\n\u001b[0;32m----> 6\u001b[0m diabetes[\u001b[38;5;124m'\u001b[39m\u001b[38;5;124mrc_cols\u001b[39m\u001b[38;5;124m'\u001b[39m] \u001b[38;5;241m=\u001b[39m \u001b[43mdiabetes\u001b[49m\u001b[43m[\u001b[49m\u001b[38;5;124;43m'\u001b[39;49m\u001b[38;5;124;43mrc_cols\u001b[39;49m\u001b[38;5;124;43m'\u001b[39;49m\u001b[43m]\u001b[49m\u001b[38;5;241m.\u001b[39mapply(pd\u001b[38;5;241m.\u001b[39mto_numeric, errors\u001b[38;5;241m=\u001b[39m\u001b[38;5;124m'\u001b[39m\u001b[38;5;124mcoerce\u001b[39m\u001b[38;5;124m'\u001b[39m) \u001b[38;5;66;03m# recode all selected columns to numeric\u001b[39;00m\n\u001b[1;32m      8\u001b[0m \u001b[38;5;66;03m# divide all columns but those listed above by total population to calculate rates\u001b[39;00m\n\u001b[1;32m      9\u001b[0m diabetes[______] \u001b[38;5;241m=\u001b[39m diabetes[______]\u001b[38;5;241m.\u001b[39mdiv(______[\u001b[38;5;124m'\u001b[39m\u001b[38;5;124mrace_total population\u001b[39m\u001b[38;5;124m'\u001b[39m], axis\u001b[38;5;241m=\u001b[39m\u001b[38;5;241m0\u001b[39m)\n",
      "File \u001b[0;32m~/opt/anaconda3/lib/python3.9/site-packages/pandas/core/frame.py:3505\u001b[0m, in \u001b[0;36mDataFrame.__getitem__\u001b[0;34m(self, key)\u001b[0m\n\u001b[1;32m   3503\u001b[0m \u001b[38;5;28;01mif\u001b[39;00m \u001b[38;5;28mself\u001b[39m\u001b[38;5;241m.\u001b[39mcolumns\u001b[38;5;241m.\u001b[39mnlevels \u001b[38;5;241m>\u001b[39m \u001b[38;5;241m1\u001b[39m:\n\u001b[1;32m   3504\u001b[0m     \u001b[38;5;28;01mreturn\u001b[39;00m \u001b[38;5;28mself\u001b[39m\u001b[38;5;241m.\u001b[39m_getitem_multilevel(key)\n\u001b[0;32m-> 3505\u001b[0m indexer \u001b[38;5;241m=\u001b[39m \u001b[38;5;28;43mself\u001b[39;49m\u001b[38;5;241;43m.\u001b[39;49m\u001b[43mcolumns\u001b[49m\u001b[38;5;241;43m.\u001b[39;49m\u001b[43mget_loc\u001b[49m\u001b[43m(\u001b[49m\u001b[43mkey\u001b[49m\u001b[43m)\u001b[49m\n\u001b[1;32m   3506\u001b[0m \u001b[38;5;28;01mif\u001b[39;00m is_integer(indexer):\n\u001b[1;32m   3507\u001b[0m     indexer \u001b[38;5;241m=\u001b[39m [indexer]\n",
      "File \u001b[0;32m~/opt/anaconda3/lib/python3.9/site-packages/pandas/core/indexes/base.py:3623\u001b[0m, in \u001b[0;36mIndex.get_loc\u001b[0;34m(self, key, method, tolerance)\u001b[0m\n\u001b[1;32m   3621\u001b[0m     \u001b[38;5;28;01mreturn\u001b[39;00m \u001b[38;5;28mself\u001b[39m\u001b[38;5;241m.\u001b[39m_engine\u001b[38;5;241m.\u001b[39mget_loc(casted_key)\n\u001b[1;32m   3622\u001b[0m \u001b[38;5;28;01mexcept\u001b[39;00m \u001b[38;5;167;01mKeyError\u001b[39;00m \u001b[38;5;28;01mas\u001b[39;00m err:\n\u001b[0;32m-> 3623\u001b[0m     \u001b[38;5;28;01mraise\u001b[39;00m \u001b[38;5;167;01mKeyError\u001b[39;00m(key) \u001b[38;5;28;01mfrom\u001b[39;00m \u001b[38;5;21;01merr\u001b[39;00m\n\u001b[1;32m   3624\u001b[0m \u001b[38;5;28;01mexcept\u001b[39;00m \u001b[38;5;167;01mTypeError\u001b[39;00m:\n\u001b[1;32m   3625\u001b[0m     \u001b[38;5;66;03m# If we have a listlike key, _check_indexing_error will raise\u001b[39;00m\n\u001b[1;32m   3626\u001b[0m     \u001b[38;5;66;03m#  InvalidIndexError. Otherwise we fall through and re-raise\u001b[39;00m\n\u001b[1;32m   3627\u001b[0m     \u001b[38;5;66;03m#  the TypeError.\u001b[39;00m\n\u001b[1;32m   3628\u001b[0m     \u001b[38;5;28mself\u001b[39m\u001b[38;5;241m.\u001b[39m_check_indexing_error(key)\n",
      "\u001b[0;31mKeyError\u001b[0m: 'rc_cols'"
     ]
    }
   ],
   "source": [
    "# select count variables to rc to percentages; make sure we leave out ratios and our population variable b/c these don't make sense to scale by population\n",
    "rc_cols = [col for col in diabetes.columns if col not in ['County', 'State', 'CountyFIPS', \n",
    "                                                        'sex and age_total population_65 years and over_sex ratio (males per 100 females)', 'sex and age_total population_sex ratio (males per 100 females)', 'sex and age_total population_18 years and over_sex ratio (males per 100 females)',  \n",
    "                                                        'race_total population']]\n",
    "           \n",
    "diabetes[________] = diabetes[______].apply(pd.to_numeric, errors='coerce') # recode all selected columns to numeric\n",
    "\n",
    "# divide all columns but those listed above by total population to calculate rates\n",
    "diabetes[______] = diabetes[______].div(______['race_total population'], axis=0)"
   ]
  },
  {
   "cell_type": "markdown",
   "id": "d5c09414",
   "metadata": {},
   "source": [
    "Let's check our work. Are all rates bounded by 0 and 1 as expected? "
   ]
  },
  {
   "cell_type": "code",
   "execution_count": null,
   "id": "6ad895e3",
   "metadata": {},
   "outputs": [],
   "source": [
    "pd.set_option('display.max_columns', None)\n",
    "# inspect recoded values\n",
    "diabetes_summary = ______.describe().transpose() # note we use the transpose method rather than .T because this object is not a numpy array\n",
    "  \n",
    "# check recoding \n",
    "with pd.option_context('display.max_rows', 100, 'display.max_columns', None): \n",
    "    display(diabetes_summary.iloc[ : ,[0,1,3,7]]) # select which columns in the summary table we want to present"
   ]
  },
  {
   "cell_type": "markdown",
   "id": "55e2bd37",
   "metadata": {},
   "source": [
    "#### d. Check for duplicate columns"
   ]
  },
  {
   "cell_type": "markdown",
   "id": "96d982ba",
   "metadata": {},
   "source": [
    "There are a lot of columns in this data frame. Let's see if there are any are duplicates. "
   ]
  },
  {
   "cell_type": "code",
   "execution_count": null,
   "id": "f11428ed",
   "metadata": {},
   "outputs": [],
   "source": [
    "# I used Google to figure this out, and adapted this example for our purposes:  \n",
    "# source: https://thispointer.com/how-to-find-drop-duplicate-columns-in-a-dataframe-python-pandas/ \n",
    "def getDuplicateColumns(df):\n",
    "    '''\n",
    "    Get a list of duplicate columns.\n",
    "    It will iterate over all the columns in dataframe and find the columns whose contents are duplicate.\n",
    "    :param df: Dataframe object\n",
    "    :return: List of columns whose contents are duplicates.\n",
    "    '''\n",
    "    duplicateColumnNames = set()\n",
    "    # Iterate over all the columns in dataframe\n",
    "    for x in range(df.shape[1]):\n",
    "        # Select column at xth index.\n",
    "        col = df.iloc[:, x]\n",
    "        # Iterate over all the columns in DataFrame from (x+1)th index till end\n",
    "        for y in range(x + 1, df.shape[1]):\n",
    "            # Select column at yth index.\n",
    "            otherCol = df.iloc[:, y]\n",
    "            # Check if two columns at x 7 y index are equal\n",
    "            if col.equals(otherCol):\n",
    "                duplicateColumnNames.add(df.columns.values[y])\n",
    "    return list(duplicateColumnNames)\n",
    "\n",
    "duplicateColumnNames = list(getDuplicateColumns(______))\n",
    "print('Duplicate Columns are as follows: ')\n",
    "duplicateColumnNames"
   ]
  },
  {
   "cell_type": "code",
   "execution_count": null,
   "id": "74c966ea",
   "metadata": {},
   "outputs": [],
   "source": [
    "# now drop list of duplicate features from our df using the .drop() method\n",
    "diabetes = diabetes.drop(columns=______) "
   ]
  },
  {
   "cell_type": "markdown",
   "id": "c854ac28",
   "metadata": {},
   "source": [
    "## 2. Exploratory Data Analysis"
   ]
  },
  {
   "cell_type": "code",
   "execution_count": null,
   "id": "0c2dfc7f",
   "metadata": {},
   "outputs": [],
   "source": [
    "# insert your EDAs and interpretations in this section "
   ]
  },
  {
   "cell_type": "markdown",
   "id": "e1e38866",
   "metadata": {},
   "source": [
    "## 3. Prepare to Fit Models"
   ]
  },
  {
   "cell_type": "markdown",
   "id": "16cc4c67",
   "metadata": {},
   "source": [
    "### 3.1 Finalize Data Set"
   ]
  },
  {
   "cell_type": "markdown",
   "id": "ff8d14a2",
   "metadata": {},
   "source": [
    "We've already cleaned up the data, but we can make a few more adjustments before partitioning the data and training models. Let's recode 'State' to be a categorical variable using `pd.get_dummies` and drop 'County' using `.drop()` because 'CountyFIPS' is already a unique identifier for the county. "
   ]
  },
  {
   "cell_type": "code",
   "execution_count": null,
   "id": "38225afb",
   "metadata": {},
   "outputs": [],
   "source": [
    "# create dummy features out of 'State' , which might be related to diabetes rates \n",
    "diabetes_clean = pd.get_dummies(______, \n",
    "                               columns = [______],  \n",
    "                               drop_first = True) # only create 49 dummies by dropping first in category\n",
    "\n",
    "# drop 'County' variable\n",
    "diabetes_clean = diabetes_clean.drop(labels = ['County'],\n",
    "                               axis = ______) # which axis tells python we want to drop columns rather than index rows?\n",
    "\n",
    "# look at first 10 rows of new data frame \n",
    "diabetes_clean.______ "
   ]
  },
  {
   "cell_type": "markdown",
   "id": "b6dc43c0",
   "metadata": {},
   "source": [
    "### 3.2/3.3 Partition Data and Feature Selection"
   ]
  },
  {
   "cell_type": "markdown",
   "id": "30b225a1",
   "metadata": {},
   "source": [
    "Now, we will partition our data to prepare it for the training process. We will use 60% train—20% validation—20% test in this case. More data in the training set lowers bias, but then increases variance in the validation/test sets. Balancing between bias and variance with choice of these set sizes is important as we want to ensure that there is enough data to train on to get good predictions, but also want to make sure our hold-out sets are representative enough."
   ]
  },
  {
   "cell_type": "code",
   "execution_count": null,
   "id": "f1ff46f3",
   "metadata": {},
   "outputs": [],
   "source": [
    "from sklearn.model_selection import train_test_split\n",
    "\n",
    "# Set y \n",
    "y = ______\n",
    "\n",
    "# X (everything except diabetes, our target)\n",
    "X = ______"
   ]
  },
  {
   "cell_type": "markdown",
   "id": "3ac53ca9",
   "metadata": {},
   "source": [
    "We should also preprocess our data. Using the `preprocessing` module from sklearn, let's scale our features so that they are mean-centered."
   ]
  },
  {
   "cell_type": "code",
   "execution_count": null,
   "id": "ffa70463",
   "metadata": {},
   "outputs": [],
   "source": [
    "from sklearn import preprocessing\n",
    "\n",
    "X = preprocessing.scale(X)"
   ]
  },
  {
   "cell_type": "markdown",
   "id": "c0158fbe",
   "metadata": {},
   "source": [
    "We can also get rid of the 0 variance features using the `VarianceThreshold()` method from `feature_selection`. "
   ]
  },
  {
   "cell_type": "code",
   "execution_count": null,
   "id": "af378860",
   "metadata": {},
   "outputs": [],
   "source": [
    "from sklearn import feature_selection\n",
    "\n",
    "selector = feature_selection.VarianceThreshold(0)\n",
    "X = selector.fit_transform(X)"
   ]
  },
  {
   "cell_type": "markdown",
   "id": "81b83942",
   "metadata": {},
   "source": [
    "And finally, let's split our data:"
   ]
  },
  {
   "cell_type": "code",
   "execution_count": null,
   "id": "21e4c634",
   "metadata": {},
   "outputs": [],
   "source": [
    "# split the data\n",
    "# train_test_split returns 4 values: X_train, X_test, y_train, y_test, so how do we create a 60-20-20 train-validate-test split? \n",
    "\n",
    "X_train, X_test, y_train, y_test = ______\n",
    "\n",
    "X_train, X_validate, y_train, y_validate = ______"
   ]
  },
  {
   "cell_type": "markdown",
   "id": "40b7d3a9",
   "metadata": {},
   "source": [
    "## 4. Train Models"
   ]
  },
  {
   "cell_type": "code",
   "execution_count": null,
   "id": "8fc13e63",
   "metadata": {},
   "outputs": [],
   "source": [
    "# train your five models in this section "
   ]
  },
  {
   "cell_type": "markdown",
   "id": "06845171",
   "metadata": {},
   "source": [
    "## 5. Validate and Refine Models"
   ]
  },
  {
   "cell_type": "code",
   "execution_count": null,
   "id": "262f7d65",
   "metadata": {},
   "outputs": [],
   "source": [
    "# use X_validation and y_validation data sets to evaluate and refine your models"
   ]
  },
  {
   "cell_type": "markdown",
   "id": "1c3d55c5",
   "metadata": {},
   "source": [
    "## 6. Discussion Questions"
   ]
  },
  {
   "cell_type": "code",
   "execution_count": 1,
   "id": "7ac2e8e9",
   "metadata": {},
   "outputs": [],
   "source": [
    "# insert responses for discussion Qs here"
   ]
  }
 ],
 "metadata": {
  "kernelspec": {
   "display_name": "Python 3 (ipykernel)",
   "language": "python",
   "name": "python3"
  },
  "language_info": {
   "codemirror_mode": {
    "name": "ipython",
    "version": 3
   },
   "file_extension": ".py",
   "mimetype": "text/x-python",
   "name": "python",
   "nbconvert_exporter": "python",
   "pygments_lexer": "ipython3",
   "version": "3.9.12"
  }
 },
 "nbformat": 4,
 "nbformat_minor": 5
}
